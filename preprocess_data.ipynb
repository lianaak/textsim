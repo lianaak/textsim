{
 "cells": [
  {
   "cell_type": "code",
   "execution_count": 1,
   "metadata": {},
   "outputs": [
    {
     "name": "stdout",
     "output_type": "stream",
     "text": [
      "preprocessing...\n"
     ]
    }
   ],
   "source": [
    "import os \n",
    "import numpy as np\n",
    "import spacy \n",
    "import string\n",
    "\n",
    "\n",
    "#following steps for preprocessing the data:\n",
    "#1 lowercasing to help consistency in outputs\n",
    "#2 tokenizing to break sentences into tokens\n",
    "#3 lemmatizing to transform words to root form \n",
    "\n",
    "if __name__ == '__main__':\n",
    "    print(\"preprocessing...\")\n",
    "else:\n",
    "    #Microsoft Research Corpus - https://www.microsoft.com/en-us/download/details.aspx?id=52398\n",
    "    train_data = open('./data/msr_paraphrase_train.txt', 'r', encoding='latin-1')\n",
    "    unprocessed_train_data = np.array([example.split(\"\\t\") for example in train_data.readlines()])\n",
    "\n",
    "    nlp = spacy.load('en_core_web_sm') # no need for large model\n",
    "\n",
    "    sentence1_tokens = []\n",
    "    sentence2_tokens = []\n",
    "\n",
    "    punct = list(string.punctuation)\n",
    "\n",
    "    count = 0\n",
    "    for (sentence1,sentence2) in zip(unprocessed_train_data[:,3],unprocessed_train_data[:,4]):\n",
    "        #error expected str, got numpy.str -> str()\n",
    "\n",
    "        #remove punctuation\n",
    "        for punctuation in punct:\n",
    "            sentence1 = sentence1.replace(punctuation, '')\n",
    "            sentence2 = sentence2.replace(punctuation, '')\n",
    "\n",
    "        #convert to lowercase and tokenize \n",
    "        sentence1 = nlp.make_doc(str(sentence1.lower()))\n",
    "        sentence2 = nlp.make_doc(str(sentence2.lower()))\n",
    "        token_list1 = []\n",
    "        token_list2 = []\n",
    "\n",
    "        #lemmatize\n",
    "        for token1,token2 in zip(sentence1,sentence2):\n",
    "            token_list1.append(token1.lemma_)\n",
    "            token_list2.append(token2.lemma_)\n",
    "        sentence1_tokens.append(token_list1)\n",
    "        sentence2_tokens.append(token_list2)\n",
    "\n",
    "    processed_data = np.array([unprocessed_train_data[:,0],unprocessed_train_data[:,1],unprocessed_train_data[:,2],sentence1_tokens,sentence2_tokens])\n",
    "    processed_data = processed_data.transpose()\n",
    "    #sz = 0\n",
    "    #for tokens in processed_data[4,:]:\n",
    "    #    for token in tokens:\n",
    "    #        print(token)\n",
    "    #    sz += len(tokens)"
   ]
  },
  {
   "cell_type": "code",
   "execution_count": null,
   "metadata": {},
   "outputs": [],
   "source": []
  }
 ],
 "metadata": {
  "kernelspec": {
   "display_name": "Python 3",
   "language": "python",
   "name": "python3"
  },
  "language_info": {
   "codemirror_mode": {
    "name": "ipython",
    "version": 3
   },
   "file_extension": ".py",
   "mimetype": "text/x-python",
   "name": "python",
   "nbconvert_exporter": "python",
   "pygments_lexer": "ipython3",
   "version": "3.8.3"
  }
 },
 "nbformat": 4,
 "nbformat_minor": 4
}
