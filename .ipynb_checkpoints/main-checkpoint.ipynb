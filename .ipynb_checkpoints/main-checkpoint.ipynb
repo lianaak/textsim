{
 "cells": [
  {
   "cell_type": "markdown",
   "metadata": {},
   "source": [
    "# Baseline Cosine Similarity"
   ]
  },
  {
   "cell_type": "code",
   "execution_count": 55,
   "metadata": {},
   "outputs": [],
   "source": [
    "import scipy\n",
    "import numpy as np\n",
    "from preprocess_data import processed_data\n",
    "from sklearn.feature_extraction.text import TfidfVectorizer\n",
    "import gensim\n",
    "from gensim import corpora\n",
    "from gensim.test.utils import common_texts\n",
    "from gensim.models import Word2Vec\n",
    "\n",
    "def cosine_distance(s1, s2):   \n",
    "    vector_1 = np.mean([model[word] for word in preprocessing(s1)],axis=0)\n",
    "    vector_2 = np.mean([model[word] for word in preprocessing(s2)],axis=0)\n",
    "    cosine = scipy.spatial.distance.cosine(vector_1, vector_2)\n",
    "    return cosine\n",
    "   \n",
    "\n",
    "#text 2 bow using gensim\n",
    "def text2bow2(token_lists):\n",
    "    dictionary = corpora.Dictionary()\n",
    "    BoW_corpus = [dictionary.doc2bow(doc, allow_update=True) for doc in token_lists]\n",
    "    id_words = [[(dictionary[id], count) for id, count in line] for line in BoW_corpus]\n",
    "    return BoW_corpus\n",
    "\n",
    "def identity_tokenizer(text):\n",
    "    return text\n",
    "\n",
    "#text 2 tf-idf using sklean\n",
    "def text2tfidf(token_lists):\n",
    "    tfidf_vectorizer = TfidfVectorizer(tokenizer=identity_tokenizer, lowercase=False)\n",
    "    tfidf_vecs = tfidf_vectorizer.fit_transform(token_lists)\n",
    "    return tfidf_vecs.todense()\n",
    "\n",
    "\n",
    "#text 2 w2v using gensim \n",
    "#need to revisit\n",
    "def text2w2v(token_lists):\n",
    "    model = Word2Vec(sentences=common_texts, vector_size=100, window=5, min_count=1, workers=4)\n",
    "    model.train(token_lists,total_examples=len(documents),epochs=10)\n",
    "    return vec\n"
   ]
  },
  {
   "cell_type": "markdown",
   "metadata": {},
   "source": [
    "## We will use a word embedding like tf-idf to compute the cosine similarities"
   ]
  },
  {
   "cell_type": "code",
   "execution_count": 74,
   "metadata": {},
   "outputs": [
    {
     "name": "stdout",
     "output_type": "stream",
     "text": [
      "NMI score: 0.06591120535869152\n"
     ]
    }
   ],
   "source": [
    "from numpy.linalg import norm\n",
    "from sklearn.metrics.cluster import normalized_mutual_info_score\n",
    "\n",
    "def cos_similarities(processed_data):\n",
    "    similarities = []\n",
    "    #compute pairwise similarities between tf-idf vectors\n",
    "    for (str1,str2) in zip(processed_data[1:,3],processed_data[1:,4]):\n",
    "        pair = []\n",
    "        pair.append(str1)\n",
    "        pair.append(str2)\n",
    "        tfidf_matrix = text2tfidf(pair)\n",
    "        similarity = tfidf_matrix * tfidf_matrix.T\n",
    "        if similarity[0,1] >= 0.5:\n",
    "            similarities.append('1')\n",
    "        else:\n",
    "            similarities.append('0')\n",
    "    return np.array(similarities)\n",
    "        \n",
    "print(\"NMI score:\",normalized_mutual_info_score(cos_similarities(processed_data), processed_data[1:,0])) "
   ]
  },
  {
   "cell_type": "code",
   "execution_count": 72,
   "metadata": {},
   "outputs": [],
   "source": [
    "s1 = [\"President\", \"greets\", \"the\", \"press\", \"in\",\"Chicago\"]\n",
    "s2 = [\"Obama\",\"speaks\", \"in\", \"Illinois\"]\n",
    "\n",
    "#cosine_distance_wordembedding_method(s1, s2)"
   ]
  },
  {
   "cell_type": "code",
   "execution_count": null,
   "metadata": {},
   "outputs": [],
   "source": []
  }
 ],
 "metadata": {
  "kernelspec": {
   "display_name": "Python 3",
   "language": "python",
   "name": "python3"
  },
  "language_info": {
   "codemirror_mode": {
    "name": "ipython",
    "version": 3
   },
   "file_extension": ".py",
   "mimetype": "text/x-python",
   "name": "python",
   "nbconvert_exporter": "python",
   "pygments_lexer": "ipython3",
   "version": "3.8.3"
  }
 },
 "nbformat": 4,
 "nbformat_minor": 4
}
