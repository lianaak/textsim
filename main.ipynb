{
 "cells": [
  {
   "cell_type": "markdown",
   "metadata": {},
   "source": [
    "# Inter-document similarity measures\n",
    "\n",
    "\n",
    "## 1. Word Embeddings \n",
    "### We want to project words (word/token vectors) onto numeric vectors such that we can apply mathematical algorithms and methods on them"
   ]
  },
  {
   "cell_type": "markdown",
   "metadata": {},
   "source": [
    "#### 1.1 Prerequisites"
   ]
  },
  {
   "cell_type": "code",
   "execution_count": 12,
   "metadata": {},
   "outputs": [],
   "source": [
    "import scipy\n",
    "import numpy as np\n",
    "import gensim\n",
    "import time\n",
    "\n",
    "from ast import literal_eval\n",
    "from preprocess_data import processed_data\n",
    "from numpy.linalg import norm\n",
    "from sklearn.feature_extraction.text import TfidfVectorizer\n",
    "from sklearn.metrics import accuracy_score\n",
    "from sklearn.metrics.cluster import normalized_mutual_info_score\n",
    "from gensim import corpora\n",
    "from gensim.test.utils import common_texts\n",
    "from gensim.models import Word2Vec\n",
    "from gensim.scripts.glove2word2vec import glove2word2vec\n",
    "from gensim.models.keyedvectors import KeyedVectors\n"
   ]
  },
  {
   "cell_type": "markdown",
   "metadata": {},
   "source": [
    "#### 1.2 BoW, Tf-Idf, Word2Vec using Skipgram and CBOW. "
   ]
  },
  {
   "cell_type": "code",
   "execution_count": 104,
   "metadata": {},
   "outputs": [],
   "source": [
    "#convert token list to bow-vector from scratch\n",
    "def text2bow2(tk1,tk2):\n",
    "    dictionary = corpora.Dictionary()\n",
    "    vec = []\n",
    "    vec1 = []\n",
    "    vec2 = []\n",
    "    vocab = []\n",
    "    for t1,t2 in zip(tk1,tk2):\n",
    "        vocab.append(t1)\n",
    "        vocab.append(t2)    \n",
    "    for v in vocab:\n",
    "        vec1.append(tk1.count(v))\n",
    "        vec2.append(tk2.count(v))\n",
    "    vec.append(vec1)\n",
    "    vec.append(vec2)\n",
    "    return vec\n",
    "\n",
    "def identity_tokenizer(text):\n",
    "    return text\n",
    "\n",
    "#convert token list to tf-idf-vector using sklearn\n",
    "def text2tfidf(token_lists):\n",
    "    tfidf_vectorizer = TfidfVectorizer(tokenizer=identity_tokenizer, lowercase=False)\n",
    "    tfidf_vecs = tfidf_vectorizer.fit_transform(token_lists)\n",
    "    return tfidf_vecs.todense()\n",
    "\n",
    "#convert token list to word2vec using gensim\n",
    "#training algorithm is defined in w2v, sg=0 meaning skip-gram, 1 meaning CBOW\n",
    "def text2w2v_sg(tk1,tk2):\n",
    "    token_list=[]\n",
    "    for t1,t2 in zip(tk1,tk2):\n",
    "        token_list.append(t1)\n",
    "        token_list.append(t2)\n",
    "    model = Word2Vec(token_list, window=5, min_count=1, workers=4, sg=1)\n",
    "    #model.train(token_lists,total_examples=len(token_lists),epochs=10)\n",
    "    return model\n",
    "\n",
    "def text2w2v_cb(tk1,tk2):\n",
    "    token_list=[]\n",
    "    for t1,t2 in zip(tk1,tk2):\n",
    "        token_list.append(t1)\n",
    "        token_list.append(t2)\n",
    "    model = Word2Vec(token_list, window=5, min_count=1, workers=4, sg=1)\n",
    "    return model\n",
    "\n",
    "def loadGlv():\n",
    "    glove2word2vec(glove_input_file=\"./data/glove.6B.300d.txt\", word2vec_output_file=\"gensim_glove_vectors.txt\")\n",
    "    glove_model = KeyedVectors.load_word2vec_format(\"gensim_glove_vectors.txt\", binary=False)\n",
    "    return glove_model\n"
   ]
  },
  {
   "cell_type": "markdown",
   "metadata": {},
   "source": [
    "## 2. Cosine Similarity"
   ]
  },
  {
   "cell_type": "markdown",
   "metadata": {},
   "source": [
    "### We want to compute the cosine similarity between documents as a measure for inter-document similarity.\n",
    "### We will compute the cossim first using the BoW embedding, word2vec with SkipGram and CBoW, tf-idf and finally with the pre-trained GloVe "
   ]
  },
  {
   "cell_type": "code",
   "execution_count": 110,
   "metadata": {},
   "outputs": [
    {
     "name": "stdout",
     "output_type": "stream",
     "text": [
      "NMI score, Cossim, BoW embedding: 0.06392774474703444\n"
     ]
    },
    {
     "name": "stderr",
     "output_type": "stream",
     "text": [
      "<ipython-input-110-4452d86a4750>:23: DeprecationWarning: Call to deprecated `__contains__` (Method will be removed in 4.0.0, use self.wv.__contains__() instead).\n",
      "  vec1 = np.mean([model[word] for word in str1 if word in model],axis=0)\n",
      "<ipython-input-110-4452d86a4750>:23: DeprecationWarning: Call to deprecated `__getitem__` (Method will be removed in 4.0.0, use self.wv.__getitem__() instead).\n",
      "  vec1 = np.mean([model[word] for word in str1 if word in model],axis=0)\n",
      "<ipython-input-110-4452d86a4750>:24: DeprecationWarning: Call to deprecated `__contains__` (Method will be removed in 4.0.0, use self.wv.__contains__() instead).\n",
      "  vec2 = np.mean([model[word] for word in str2 if word in model],axis=0)\n",
      "<ipython-input-110-4452d86a4750>:24: DeprecationWarning: Call to deprecated `__getitem__` (Method will be removed in 4.0.0, use self.wv.__getitem__() instead).\n",
      "  vec2 = np.mean([model[word] for word in str2 if word in model],axis=0)\n"
     ]
    },
    {
     "name": "stdout",
     "output_type": "stream",
     "text": [
      "NMI score, Cossim, W2V with SkipGram: 0.012826149818436385\n"
     ]
    },
    {
     "name": "stderr",
     "output_type": "stream",
     "text": [
      "<ipython-input-110-4452d86a4750>:23: DeprecationWarning: Call to deprecated `__contains__` (Method will be removed in 4.0.0, use self.wv.__contains__() instead).\n",
      "  vec1 = np.mean([model[word] for word in str1 if word in model],axis=0)\n",
      "<ipython-input-110-4452d86a4750>:23: DeprecationWarning: Call to deprecated `__getitem__` (Method will be removed in 4.0.0, use self.wv.__getitem__() instead).\n",
      "  vec1 = np.mean([model[word] for word in str1 if word in model],axis=0)\n",
      "<ipython-input-110-4452d86a4750>:24: DeprecationWarning: Call to deprecated `__contains__` (Method will be removed in 4.0.0, use self.wv.__contains__() instead).\n",
      "  vec2 = np.mean([model[word] for word in str2 if word in model],axis=0)\n",
      "<ipython-input-110-4452d86a4750>:24: DeprecationWarning: Call to deprecated `__getitem__` (Method will be removed in 4.0.0, use self.wv.__getitem__() instead).\n",
      "  vec2 = np.mean([model[word] for word in str2 if word in model],axis=0)\n"
     ]
    },
    {
     "name": "stdout",
     "output_type": "stream",
     "text": [
      "NMI score, Cossim, W2V with CBoW: 0.014549726680304647\n",
      "NMI score, Cossim, Tf-Idf embedding: 0.0129055029389371\n",
      "NMI score, Cossim, pre-trained Glove embedding: 0.04162622040210457\n"
     ]
    }
   ],
   "source": [
    "#we set the similarity threshold to 0.8 to avoid false positives\n",
    "def cos_similarities_bow(processed_data):\n",
    "    similarities = []\n",
    "    #compute pairwise similarities between bow vectors\n",
    "    for (str1,str2) in zip(processed_data[1:,3],processed_data[1:,4]):\n",
    "        bows = text2bow2(str1,str2)\n",
    "        cosine = 1 - scipy.spatial.distance.cosine(np.array(bows[0]), np.array(bows[1]))\n",
    "        if cosine >= 0.8:\n",
    "            similarities.append('1')\n",
    "        else:\n",
    "            similarities.append('0')\n",
    "    return np.array(similarities)\n",
    "\n",
    "#threshold here is higher, as numeric vectors seem to be very close to each other -> not suitable!\n",
    "def cos_similarities_w2v(processed_data, algorithm_str):\n",
    "    similarities = []\n",
    "    if algorithm_str==\"skipgram\":\n",
    "        model= text2w2v_sg(processed_data[1:,3],processed_data[1:,4])\n",
    "    else:\n",
    "        model= text2w2v_cb(processed_data[1:,3],processed_data[1:,4])\n",
    "    #compute pairwise similarities between skipgram vectors\n",
    "    for (str1,str2) in zip(processed_data[1:,3],processed_data[1:,4]):\n",
    "        vec1 = np.mean([model[word] for word in str1 if word in model],axis=0)\n",
    "        vec2 = np.mean([model[word] for word in str2 if word in model],axis=0)\n",
    "        cosine = scipy.spatial.distance.cosine(vec1, vec2)\n",
    "        if 1-cosine > 0.994:\n",
    "            similarities.append('1')\n",
    "        else:\n",
    "            similarities.append('0')\n",
    "    return np.array(similarities)\n",
    "\n",
    "\n",
    "def cos_similarities_tfidf(processed_data):\n",
    "    similarities = []\n",
    "    #compute pairwise similarities between tf-idf vectors\n",
    "    for (str1,str2) in zip(processed_data[1:,3],processed_data[1:,4]):\n",
    "        pair = []\n",
    "        pair.append(str1)\n",
    "        pair.append(str2)\n",
    "        tfidf_matrix = text2tfidf(pair)\n",
    "        similarity = tfidf_matrix * tfidf_matrix.T\n",
    "        if similarity[0,1] >= 0.8:\n",
    "            similarities.append('1')\n",
    "        else:\n",
    "            similarities.append('0')\n",
    "    return np.array(similarities)\n",
    "\n",
    "#using the pre-trained vectors from Wikipedia database from GloVe\n",
    "#train the gloVe model with the vectors and applying model on each token of a sentence \n",
    "#to generate numeric vectors\n",
    "def cos_similarities_glove(processed_data):\n",
    "    similarities = []\n",
    "    glove_model = loadGlv()\n",
    "    for (str1,str2) in zip(processed_data[1:,3],processed_data[1:,4]):\n",
    "        vec1 = np.mean([glove_model[word] for word in str1 if word in glove_model],axis=0)\n",
    "        vec2 = np.mean([glove_model[word] for word in str2 if word in glove_model],axis=0)\n",
    "        cosine = scipy.spatial.distance.cosine(vec1, vec2)\n",
    "        if 1-cosine >= 0.8:\n",
    "            similarities.append('1')\n",
    "        else:\n",
    "            similarities.append('0')\n",
    "    return np.array(similarities)\n",
    "\n",
    "#calculating normalized mutual info score from sklearn to measure the accuracy of the results\n",
    "print(\"NMI score, Cossim, BoW embedding:\",normalized_mutual_info_score(cos_similarities_bow(processed_data), processed_data[1:,0]))   \n",
    "print(\"NMI score, Cossim, W2V with SkipGram:\",normalized_mutual_info_score(cos_similarities_w2v(processed_data,\"skipgram\"), processed_data[1:,0])) \n",
    "print(\"NMI score, Cossim, W2V with CBoW:\",normalized_mutual_info_score(cos_similarities_w2v(processed_data,\"cbow\"), processed_data[1:,0])) \n",
    "print(\"NMI score, Cossim, Tf-Idf embedding:\",normalized_mutual_info_score(cos_similarities_tfidf(processed_data), processed_data[1:,0])) \n",
    "print(\"NMI score, Cossim, pre-trained Glove embedding:\",normalized_mutual_info_score(cos_similarities_glove(processed_data), processed_data[1:,0])) "
   ]
  },
  {
   "cell_type": "code",
   "execution_count": null,
   "metadata": {},
   "outputs": [],
   "source": []
  }
 ],
 "metadata": {
  "kernelspec": {
   "display_name": "Python 3",
   "language": "python",
   "name": "python3"
  },
  "language_info": {
   "codemirror_mode": {
    "name": "ipython",
    "version": 3
   },
   "file_extension": ".py",
   "mimetype": "text/x-python",
   "name": "python",
   "nbconvert_exporter": "python",
   "pygments_lexer": "ipython3",
   "version": "3.8.3"
  }
 },
 "nbformat": 4,
 "nbformat_minor": 4
}
